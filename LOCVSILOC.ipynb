{
  "nbformat": 4,
  "nbformat_minor": 0,
  "metadata": {
    "kernelspec": {
      "display_name": "Python 3",
      "language": "python",
      "name": "python3"
    },
    "language_info": {
      "codemirror_mode": {
        "name": "ipython",
        "version": 3
      },
      "file_extension": ".py",
      "mimetype": "text/x-python",
      "name": "python",
      "nbconvert_exporter": "python",
      "pygments_lexer": "ipython3",
      "version": "3.7.7"
    },
    "colab": {
      "name": "LOCVSILOC.ipynb",
      "provenance": [],
      "collapsed_sections": [],
      "include_colab_link": true
    }
  },
  "cells": [
    {
      "cell_type": "markdown",
      "metadata": {
        "id": "view-in-github",
        "colab_type": "text"
      },
      "source": [
        "<a href=\"https://colab.research.google.com/github/debgit/AIML1/blob/master/Pandas/LOCVSILOC.ipynb\" target=\"_parent\"><img src=\"https://colab.research.google.com/assets/colab-badge.svg\" alt=\"Open In Colab\"/></a>"
      ]
    },
    {
      "cell_type": "code",
      "metadata": {
        "id": "_jF_vh7z5fkC",
        "colab_type": "code",
        "colab": {
          "base_uri": "https://localhost:8080/",
          "height": 254
        },
        "outputId": "52c29d22-3557-4e1d-dd8e-7db349f7c2e2"
      },
      "source": [
        "# importing pandas and numpy\n",
        "import pandas as pd\n",
        "import numpy as np\n",
        "# crete a sample dataframe\n",
        "data = pd.DataFrame({\n",
        "    'age' :     [ 10, 22, 13, 21, 12, 11, 17],\n",
        "    'section' : [ 'A', 'B', 'C', 'B', 'B', 'A', 'A'],\n",
        "    'city' :    [ 'Gurgaon', 'Delhi', 'Mumbai', 'Delhi', 'Mumbai', 'Delhi', 'Mumbai'],\n",
        "    'gender' :  [ 'M', 'F', 'F', 'M', 'M', 'M', 'F'],\n",
        "    'favourite_color' : [ 'red', np.NAN, 'yellow', np.NAN, 'black', 'green', 'red']\n",
        "})\n",
        "# view the data\n",
        "data"
      ],
      "execution_count": 1,
      "outputs": [
        {
          "output_type": "execute_result",
          "data": {
            "text/html": [
              "<div>\n",
              "<style scoped>\n",
              "    .dataframe tbody tr th:only-of-type {\n",
              "        vertical-align: middle;\n",
              "    }\n",
              "\n",
              "    .dataframe tbody tr th {\n",
              "        vertical-align: top;\n",
              "    }\n",
              "\n",
              "    .dataframe thead th {\n",
              "        text-align: right;\n",
              "    }\n",
              "</style>\n",
              "<table border=\"1\" class=\"dataframe\">\n",
              "  <thead>\n",
              "    <tr style=\"text-align: right;\">\n",
              "      <th></th>\n",
              "      <th>age</th>\n",
              "      <th>section</th>\n",
              "      <th>city</th>\n",
              "      <th>gender</th>\n",
              "      <th>favourite_color</th>\n",
              "    </tr>\n",
              "  </thead>\n",
              "  <tbody>\n",
              "    <tr>\n",
              "      <th>0</th>\n",
              "      <td>10</td>\n",
              "      <td>A</td>\n",
              "      <td>Gurgaon</td>\n",
              "      <td>M</td>\n",
              "      <td>red</td>\n",
              "    </tr>\n",
              "    <tr>\n",
              "      <th>1</th>\n",
              "      <td>22</td>\n",
              "      <td>B</td>\n",
              "      <td>Delhi</td>\n",
              "      <td>F</td>\n",
              "      <td>NaN</td>\n",
              "    </tr>\n",
              "    <tr>\n",
              "      <th>2</th>\n",
              "      <td>13</td>\n",
              "      <td>C</td>\n",
              "      <td>Mumbai</td>\n",
              "      <td>F</td>\n",
              "      <td>yellow</td>\n",
              "    </tr>\n",
              "    <tr>\n",
              "      <th>3</th>\n",
              "      <td>21</td>\n",
              "      <td>B</td>\n",
              "      <td>Delhi</td>\n",
              "      <td>M</td>\n",
              "      <td>NaN</td>\n",
              "    </tr>\n",
              "    <tr>\n",
              "      <th>4</th>\n",
              "      <td>12</td>\n",
              "      <td>B</td>\n",
              "      <td>Mumbai</td>\n",
              "      <td>M</td>\n",
              "      <td>black</td>\n",
              "    </tr>\n",
              "    <tr>\n",
              "      <th>5</th>\n",
              "      <td>11</td>\n",
              "      <td>A</td>\n",
              "      <td>Delhi</td>\n",
              "      <td>M</td>\n",
              "      <td>green</td>\n",
              "    </tr>\n",
              "    <tr>\n",
              "      <th>6</th>\n",
              "      <td>17</td>\n",
              "      <td>A</td>\n",
              "      <td>Mumbai</td>\n",
              "      <td>F</td>\n",
              "      <td>red</td>\n",
              "    </tr>\n",
              "  </tbody>\n",
              "</table>\n",
              "</div>"
            ],
            "text/plain": [
              "   age section     city gender favourite_color\n",
              "0   10       A  Gurgaon      M             red\n",
              "1   22       B    Delhi      F             NaN\n",
              "2   13       C   Mumbai      F          yellow\n",
              "3   21       B    Delhi      M             NaN\n",
              "4   12       B   Mumbai      M           black\n",
              "5   11       A    Delhi      M           green\n",
              "6   17       A   Mumbai      F             red"
            ]
          },
          "metadata": {
            "tags": []
          },
          "execution_count": 1
        }
      ]
    },
    {
      "cell_type": "code",
      "metadata": {
        "id": "_s2Hawzw5fkI",
        "colab_type": "code",
        "colab": {
          "base_uri": "https://localhost:8080/",
          "height": 136
        },
        "outputId": "fe491b6e-b983-45d8-ba09-bb9a5375fce4"
      },
      "source": [
        "data.loc[2:4,['age','city']]"
      ],
      "execution_count": 2,
      "outputs": [
        {
          "output_type": "execute_result",
          "data": {
            "text/html": [
              "<div>\n",
              "<style scoped>\n",
              "    .dataframe tbody tr th:only-of-type {\n",
              "        vertical-align: middle;\n",
              "    }\n",
              "\n",
              "    .dataframe tbody tr th {\n",
              "        vertical-align: top;\n",
              "    }\n",
              "\n",
              "    .dataframe thead th {\n",
              "        text-align: right;\n",
              "    }\n",
              "</style>\n",
              "<table border=\"1\" class=\"dataframe\">\n",
              "  <thead>\n",
              "    <tr style=\"text-align: right;\">\n",
              "      <th></th>\n",
              "      <th>age</th>\n",
              "      <th>city</th>\n",
              "    </tr>\n",
              "  </thead>\n",
              "  <tbody>\n",
              "    <tr>\n",
              "      <th>2</th>\n",
              "      <td>13</td>\n",
              "      <td>Mumbai</td>\n",
              "    </tr>\n",
              "    <tr>\n",
              "      <th>3</th>\n",
              "      <td>21</td>\n",
              "      <td>Delhi</td>\n",
              "    </tr>\n",
              "    <tr>\n",
              "      <th>4</th>\n",
              "      <td>12</td>\n",
              "      <td>Mumbai</td>\n",
              "    </tr>\n",
              "  </tbody>\n",
              "</table>\n",
              "</div>"
            ],
            "text/plain": [
              "   age    city\n",
              "2   13  Mumbai\n",
              "3   21   Delhi\n",
              "4   12  Mumbai"
            ]
          },
          "metadata": {
            "tags": []
          },
          "execution_count": 2
        }
      ]
    },
    {
      "cell_type": "code",
      "metadata": {
        "id": "pDqJdsFfKSvn",
        "colab_type": "code",
        "colab": {
          "base_uri": "https://localhost:8080/",
          "height": 106
        },
        "outputId": "117f72c6-456f-4c66-914c-129a560e82c7"
      },
      "source": [
        "data.iloc[2:4,[0,2]]"
      ],
      "execution_count": 4,
      "outputs": [
        {
          "output_type": "execute_result",
          "data": {
            "text/html": [
              "<div>\n",
              "<style scoped>\n",
              "    .dataframe tbody tr th:only-of-type {\n",
              "        vertical-align: middle;\n",
              "    }\n",
              "\n",
              "    .dataframe tbody tr th {\n",
              "        vertical-align: top;\n",
              "    }\n",
              "\n",
              "    .dataframe thead th {\n",
              "        text-align: right;\n",
              "    }\n",
              "</style>\n",
              "<table border=\"1\" class=\"dataframe\">\n",
              "  <thead>\n",
              "    <tr style=\"text-align: right;\">\n",
              "      <th></th>\n",
              "      <th>age</th>\n",
              "      <th>city</th>\n",
              "    </tr>\n",
              "  </thead>\n",
              "  <tbody>\n",
              "    <tr>\n",
              "      <th>2</th>\n",
              "      <td>13</td>\n",
              "      <td>Mumbai</td>\n",
              "    </tr>\n",
              "    <tr>\n",
              "      <th>3</th>\n",
              "      <td>21</td>\n",
              "      <td>Delhi</td>\n",
              "    </tr>\n",
              "  </tbody>\n",
              "</table>\n",
              "</div>"
            ],
            "text/plain": [
              "   age    city\n",
              "2   13  Mumbai\n",
              "3   21   Delhi"
            ]
          },
          "metadata": {
            "tags": []
          },
          "execution_count": 4
        }
      ]
    },
    {
      "cell_type": "code",
      "metadata": {
        "id": "AIcOwAmD5fkL",
        "colab_type": "code",
        "colab": {},
        "outputId": "e18e5396-b3bc-432a-8335-27e6b07ce452"
      },
      "source": [
        "data.iloc[2:4,[0,2]]"
      ],
      "execution_count": null,
      "outputs": [
        {
          "output_type": "execute_result",
          "data": {
            "text/html": [
              "<div>\n",
              "<style scoped>\n",
              "    .dataframe tbody tr th:only-of-type {\n",
              "        vertical-align: middle;\n",
              "    }\n",
              "\n",
              "    .dataframe tbody tr th {\n",
              "        vertical-align: top;\n",
              "    }\n",
              "\n",
              "    .dataframe thead th {\n",
              "        text-align: right;\n",
              "    }\n",
              "</style>\n",
              "<table border=\"1\" class=\"dataframe\">\n",
              "  <thead>\n",
              "    <tr style=\"text-align: right;\">\n",
              "      <th></th>\n",
              "      <th>age</th>\n",
              "      <th>city</th>\n",
              "    </tr>\n",
              "  </thead>\n",
              "  <tbody>\n",
              "    <tr>\n",
              "      <th>2</th>\n",
              "      <td>13</td>\n",
              "      <td>Mumbai</td>\n",
              "    </tr>\n",
              "    <tr>\n",
              "      <th>3</th>\n",
              "      <td>21</td>\n",
              "      <td>Delhi</td>\n",
              "    </tr>\n",
              "  </tbody>\n",
              "</table>\n",
              "</div>"
            ],
            "text/plain": [
              "   age    city\n",
              "2   13  Mumbai\n",
              "3   21   Delhi"
            ]
          },
          "metadata": {
            "tags": []
          },
          "execution_count": 3
        }
      ]
    },
    {
      "cell_type": "code",
      "metadata": {
        "id": "u-AM8tGf5fkO",
        "colab_type": "code",
        "colab": {},
        "outputId": "e6affa75-dd26-495d-cdf9-6b647bad650e"
      },
      "source": [
        "data.loc[data.age >= 15]"
      ],
      "execution_count": null,
      "outputs": [
        {
          "output_type": "execute_result",
          "data": {
            "text/html": [
              "<div>\n",
              "<style scoped>\n",
              "    .dataframe tbody tr th:only-of-type {\n",
              "        vertical-align: middle;\n",
              "    }\n",
              "\n",
              "    .dataframe tbody tr th {\n",
              "        vertical-align: top;\n",
              "    }\n",
              "\n",
              "    .dataframe thead th {\n",
              "        text-align: right;\n",
              "    }\n",
              "</style>\n",
              "<table border=\"1\" class=\"dataframe\">\n",
              "  <thead>\n",
              "    <tr style=\"text-align: right;\">\n",
              "      <th></th>\n",
              "      <th>age</th>\n",
              "      <th>section</th>\n",
              "      <th>city</th>\n",
              "      <th>gender</th>\n",
              "      <th>favourite_color</th>\n",
              "    </tr>\n",
              "  </thead>\n",
              "  <tbody>\n",
              "    <tr>\n",
              "      <th>1</th>\n",
              "      <td>22</td>\n",
              "      <td>B</td>\n",
              "      <td>Delhi</td>\n",
              "      <td>F</td>\n",
              "      <td>NaN</td>\n",
              "    </tr>\n",
              "    <tr>\n",
              "      <th>3</th>\n",
              "      <td>21</td>\n",
              "      <td>B</td>\n",
              "      <td>Delhi</td>\n",
              "      <td>M</td>\n",
              "      <td>NaN</td>\n",
              "    </tr>\n",
              "    <tr>\n",
              "      <th>6</th>\n",
              "      <td>17</td>\n",
              "      <td>A</td>\n",
              "      <td>Mumbai</td>\n",
              "      <td>F</td>\n",
              "      <td>red</td>\n",
              "    </tr>\n",
              "  </tbody>\n",
              "</table>\n",
              "</div>"
            ],
            "text/plain": [
              "   age section    city gender favourite_color\n",
              "1   22       B   Delhi      F             NaN\n",
              "3   21       B   Delhi      M             NaN\n",
              "6   17       A  Mumbai      F             red"
            ]
          },
          "metadata": {
            "tags": []
          },
          "execution_count": 4
        }
      ]
    },
    {
      "cell_type": "code",
      "metadata": {
        "id": "jcDCOE4O5fkR",
        "colab_type": "code",
        "colab": {},
        "outputId": "527680db-db25-4269-fbf2-1e6f7f4f5711"
      },
      "source": [
        "# select with multiple conditions\n",
        "data.loc[(data.age >= 12) & (data.gender == 'M')]"
      ],
      "execution_count": null,
      "outputs": [
        {
          "output_type": "execute_result",
          "data": {
            "text/html": [
              "<div>\n",
              "<style scoped>\n",
              "    .dataframe tbody tr th:only-of-type {\n",
              "        vertical-align: middle;\n",
              "    }\n",
              "\n",
              "    .dataframe tbody tr th {\n",
              "        vertical-align: top;\n",
              "    }\n",
              "\n",
              "    .dataframe thead th {\n",
              "        text-align: right;\n",
              "    }\n",
              "</style>\n",
              "<table border=\"1\" class=\"dataframe\">\n",
              "  <thead>\n",
              "    <tr style=\"text-align: right;\">\n",
              "      <th></th>\n",
              "      <th>age</th>\n",
              "      <th>section</th>\n",
              "      <th>city</th>\n",
              "      <th>gender</th>\n",
              "      <th>favourite_color</th>\n",
              "    </tr>\n",
              "  </thead>\n",
              "  <tbody>\n",
              "    <tr>\n",
              "      <th>3</th>\n",
              "      <td>21</td>\n",
              "      <td>B</td>\n",
              "      <td>Delhi</td>\n",
              "      <td>M</td>\n",
              "      <td>NaN</td>\n",
              "    </tr>\n",
              "    <tr>\n",
              "      <th>4</th>\n",
              "      <td>12</td>\n",
              "      <td>B</td>\n",
              "      <td>Mumbai</td>\n",
              "      <td>M</td>\n",
              "      <td>black</td>\n",
              "    </tr>\n",
              "  </tbody>\n",
              "</table>\n",
              "</div>"
            ],
            "text/plain": [
              "   age section    city gender favourite_color\n",
              "3   21       B   Delhi      M             NaN\n",
              "4   12       B  Mumbai      M           black"
            ]
          },
          "metadata": {
            "tags": []
          },
          "execution_count": 5
        }
      ]
    },
    {
      "cell_type": "code",
      "metadata": {
        "id": "itauJtHg5fkU",
        "colab_type": "code",
        "colab": {},
        "outputId": "b8a017ff-652f-4202-95d1-5f15d7671ebf"
      },
      "source": [
        "#slice\n",
        "data.loc[1:3]"
      ],
      "execution_count": null,
      "outputs": [
        {
          "output_type": "execute_result",
          "data": {
            "text/html": [
              "<div>\n",
              "<style scoped>\n",
              "    .dataframe tbody tr th:only-of-type {\n",
              "        vertical-align: middle;\n",
              "    }\n",
              "\n",
              "    .dataframe tbody tr th {\n",
              "        vertical-align: top;\n",
              "    }\n",
              "\n",
              "    .dataframe thead th {\n",
              "        text-align: right;\n",
              "    }\n",
              "</style>\n",
              "<table border=\"1\" class=\"dataframe\">\n",
              "  <thead>\n",
              "    <tr style=\"text-align: right;\">\n",
              "      <th></th>\n",
              "      <th>age</th>\n",
              "      <th>section</th>\n",
              "      <th>city</th>\n",
              "      <th>gender</th>\n",
              "      <th>favourite_color</th>\n",
              "    </tr>\n",
              "  </thead>\n",
              "  <tbody>\n",
              "    <tr>\n",
              "      <th>1</th>\n",
              "      <td>22</td>\n",
              "      <td>B</td>\n",
              "      <td>Delhi</td>\n",
              "      <td>F</td>\n",
              "      <td>NaN</td>\n",
              "    </tr>\n",
              "    <tr>\n",
              "      <th>2</th>\n",
              "      <td>13</td>\n",
              "      <td>C</td>\n",
              "      <td>Mumbai</td>\n",
              "      <td>F</td>\n",
              "      <td>yellow</td>\n",
              "    </tr>\n",
              "    <tr>\n",
              "      <th>3</th>\n",
              "      <td>21</td>\n",
              "      <td>B</td>\n",
              "      <td>Delhi</td>\n",
              "      <td>M</td>\n",
              "      <td>NaN</td>\n",
              "    </tr>\n",
              "  </tbody>\n",
              "</table>\n",
              "</div>"
            ],
            "text/plain": [
              "   age section    city gender favourite_color\n",
              "1   22       B   Delhi      F             NaN\n",
              "2   13       C  Mumbai      F          yellow\n",
              "3   21       B   Delhi      M             NaN"
            ]
          },
          "metadata": {
            "tags": []
          },
          "execution_count": 6
        }
      ]
    },
    {
      "cell_type": "code",
      "metadata": {
        "id": "K2suCgMq5fkX",
        "colab_type": "code",
        "colab": {},
        "outputId": "41f403e1-ed9d-4fa6-fd87-8696fada8d84"
      },
      "source": [
        "# select few columns with a condition\n",
        "data.loc[(data.age >= 12), ['city', 'gender']]"
      ],
      "execution_count": null,
      "outputs": [
        {
          "output_type": "execute_result",
          "data": {
            "text/html": [
              "<div>\n",
              "<style scoped>\n",
              "    .dataframe tbody tr th:only-of-type {\n",
              "        vertical-align: middle;\n",
              "    }\n",
              "\n",
              "    .dataframe tbody tr th {\n",
              "        vertical-align: top;\n",
              "    }\n",
              "\n",
              "    .dataframe thead th {\n",
              "        text-align: right;\n",
              "    }\n",
              "</style>\n",
              "<table border=\"1\" class=\"dataframe\">\n",
              "  <thead>\n",
              "    <tr style=\"text-align: right;\">\n",
              "      <th></th>\n",
              "      <th>city</th>\n",
              "      <th>gender</th>\n",
              "    </tr>\n",
              "  </thead>\n",
              "  <tbody>\n",
              "    <tr>\n",
              "      <th>1</th>\n",
              "      <td>Delhi</td>\n",
              "      <td>F</td>\n",
              "    </tr>\n",
              "    <tr>\n",
              "      <th>2</th>\n",
              "      <td>Mumbai</td>\n",
              "      <td>F</td>\n",
              "    </tr>\n",
              "    <tr>\n",
              "      <th>3</th>\n",
              "      <td>Delhi</td>\n",
              "      <td>M</td>\n",
              "    </tr>\n",
              "    <tr>\n",
              "      <th>4</th>\n",
              "      <td>Mumbai</td>\n",
              "      <td>M</td>\n",
              "    </tr>\n",
              "    <tr>\n",
              "      <th>6</th>\n",
              "      <td>Mumbai</td>\n",
              "      <td>F</td>\n",
              "    </tr>\n",
              "  </tbody>\n",
              "</table>\n",
              "</div>"
            ],
            "text/plain": [
              "     city gender\n",
              "1   Delhi      F\n",
              "2  Mumbai      F\n",
              "3   Delhi      M\n",
              "4  Mumbai      M\n",
              "6  Mumbai      F"
            ]
          },
          "metadata": {
            "tags": []
          },
          "execution_count": 7
        }
      ]
    },
    {
      "cell_type": "code",
      "metadata": {
        "id": "HB5UyfjE5fka",
        "colab_type": "code",
        "colab": {},
        "outputId": "efe61190-7f53-40cb-a75e-2ec33760f69e"
      },
      "source": [
        "# update a column with condition\n",
        "data.loc[(data.age >= 12), ['section']] = 'M'\n",
        "data"
      ],
      "execution_count": null,
      "outputs": [
        {
          "output_type": "execute_result",
          "data": {
            "text/html": [
              "<div>\n",
              "<style scoped>\n",
              "    .dataframe tbody tr th:only-of-type {\n",
              "        vertical-align: middle;\n",
              "    }\n",
              "\n",
              "    .dataframe tbody tr th {\n",
              "        vertical-align: top;\n",
              "    }\n",
              "\n",
              "    .dataframe thead th {\n",
              "        text-align: right;\n",
              "    }\n",
              "</style>\n",
              "<table border=\"1\" class=\"dataframe\">\n",
              "  <thead>\n",
              "    <tr style=\"text-align: right;\">\n",
              "      <th></th>\n",
              "      <th>age</th>\n",
              "      <th>section</th>\n",
              "      <th>city</th>\n",
              "      <th>gender</th>\n",
              "      <th>favourite_color</th>\n",
              "    </tr>\n",
              "  </thead>\n",
              "  <tbody>\n",
              "    <tr>\n",
              "      <th>0</th>\n",
              "      <td>10</td>\n",
              "      <td>A</td>\n",
              "      <td>Gurgaon</td>\n",
              "      <td>M</td>\n",
              "      <td>red</td>\n",
              "    </tr>\n",
              "    <tr>\n",
              "      <th>1</th>\n",
              "      <td>22</td>\n",
              "      <td>M</td>\n",
              "      <td>Delhi</td>\n",
              "      <td>F</td>\n",
              "      <td>NaN</td>\n",
              "    </tr>\n",
              "    <tr>\n",
              "      <th>2</th>\n",
              "      <td>13</td>\n",
              "      <td>M</td>\n",
              "      <td>Mumbai</td>\n",
              "      <td>F</td>\n",
              "      <td>yellow</td>\n",
              "    </tr>\n",
              "    <tr>\n",
              "      <th>3</th>\n",
              "      <td>21</td>\n",
              "      <td>M</td>\n",
              "      <td>Delhi</td>\n",
              "      <td>M</td>\n",
              "      <td>NaN</td>\n",
              "    </tr>\n",
              "    <tr>\n",
              "      <th>4</th>\n",
              "      <td>12</td>\n",
              "      <td>M</td>\n",
              "      <td>Mumbai</td>\n",
              "      <td>M</td>\n",
              "      <td>black</td>\n",
              "    </tr>\n",
              "    <tr>\n",
              "      <th>5</th>\n",
              "      <td>11</td>\n",
              "      <td>A</td>\n",
              "      <td>Delhi</td>\n",
              "      <td>M</td>\n",
              "      <td>green</td>\n",
              "    </tr>\n",
              "    <tr>\n",
              "      <th>6</th>\n",
              "      <td>17</td>\n",
              "      <td>M</td>\n",
              "      <td>Mumbai</td>\n",
              "      <td>F</td>\n",
              "      <td>red</td>\n",
              "    </tr>\n",
              "  </tbody>\n",
              "</table>\n",
              "</div>"
            ],
            "text/plain": [
              "   age section     city gender favourite_color\n",
              "0   10       A  Gurgaon      M             red\n",
              "1   22       M    Delhi      F             NaN\n",
              "2   13       M   Mumbai      F          yellow\n",
              "3   21       M    Delhi      M             NaN\n",
              "4   12       M   Mumbai      M           black\n",
              "5   11       A    Delhi      M           green\n",
              "6   17       M   Mumbai      F             red"
            ]
          },
          "metadata": {
            "tags": []
          },
          "execution_count": 8
        }
      ]
    },
    {
      "cell_type": "code",
      "metadata": {
        "id": "Qufk1uTJ5fkd",
        "colab_type": "code",
        "colab": {},
        "outputId": "f102fc0a-dc76-4f48-860e-351c9d330031"
      },
      "source": [
        "# update multiple columns with condition\n",
        "data.loc[(data.age >= 20), ['section', 'city']] = ['S','Pune']\n",
        "data"
      ],
      "execution_count": null,
      "outputs": [
        {
          "output_type": "execute_result",
          "data": {
            "text/html": [
              "<div>\n",
              "<style scoped>\n",
              "    .dataframe tbody tr th:only-of-type {\n",
              "        vertical-align: middle;\n",
              "    }\n",
              "\n",
              "    .dataframe tbody tr th {\n",
              "        vertical-align: top;\n",
              "    }\n",
              "\n",
              "    .dataframe thead th {\n",
              "        text-align: right;\n",
              "    }\n",
              "</style>\n",
              "<table border=\"1\" class=\"dataframe\">\n",
              "  <thead>\n",
              "    <tr style=\"text-align: right;\">\n",
              "      <th></th>\n",
              "      <th>age</th>\n",
              "      <th>section</th>\n",
              "      <th>city</th>\n",
              "      <th>gender</th>\n",
              "      <th>favourite_color</th>\n",
              "    </tr>\n",
              "  </thead>\n",
              "  <tbody>\n",
              "    <tr>\n",
              "      <th>0</th>\n",
              "      <td>10</td>\n",
              "      <td>A</td>\n",
              "      <td>Gurgaon</td>\n",
              "      <td>M</td>\n",
              "      <td>red</td>\n",
              "    </tr>\n",
              "    <tr>\n",
              "      <th>1</th>\n",
              "      <td>22</td>\n",
              "      <td>S</td>\n",
              "      <td>Pune</td>\n",
              "      <td>F</td>\n",
              "      <td>NaN</td>\n",
              "    </tr>\n",
              "    <tr>\n",
              "      <th>2</th>\n",
              "      <td>13</td>\n",
              "      <td>M</td>\n",
              "      <td>Mumbai</td>\n",
              "      <td>F</td>\n",
              "      <td>yellow</td>\n",
              "    </tr>\n",
              "    <tr>\n",
              "      <th>3</th>\n",
              "      <td>21</td>\n",
              "      <td>S</td>\n",
              "      <td>Pune</td>\n",
              "      <td>M</td>\n",
              "      <td>NaN</td>\n",
              "    </tr>\n",
              "    <tr>\n",
              "      <th>4</th>\n",
              "      <td>12</td>\n",
              "      <td>M</td>\n",
              "      <td>Mumbai</td>\n",
              "      <td>M</td>\n",
              "      <td>black</td>\n",
              "    </tr>\n",
              "    <tr>\n",
              "      <th>5</th>\n",
              "      <td>11</td>\n",
              "      <td>A</td>\n",
              "      <td>Delhi</td>\n",
              "      <td>M</td>\n",
              "      <td>green</td>\n",
              "    </tr>\n",
              "    <tr>\n",
              "      <th>6</th>\n",
              "      <td>17</td>\n",
              "      <td>M</td>\n",
              "      <td>Mumbai</td>\n",
              "      <td>F</td>\n",
              "      <td>red</td>\n",
              "    </tr>\n",
              "  </tbody>\n",
              "</table>\n",
              "</div>"
            ],
            "text/plain": [
              "   age section     city gender favourite_color\n",
              "0   10       A  Gurgaon      M             red\n",
              "1   22       S     Pune      F             NaN\n",
              "2   13       M   Mumbai      F          yellow\n",
              "3   21       S     Pune      M             NaN\n",
              "4   12       M   Mumbai      M           black\n",
              "5   11       A    Delhi      M           green\n",
              "6   17       M   Mumbai      F             red"
            ]
          },
          "metadata": {
            "tags": []
          },
          "execution_count": 9
        }
      ]
    },
    {
      "cell_type": "code",
      "metadata": {
        "id": "dY6a7fQk5fkf",
        "colab_type": "code",
        "colab": {},
        "outputId": "b0d3c0cf-cd9b-4c2c-fc10-652e2c0ce351"
      },
      "source": [
        "# select rows with indexes\n",
        "data.iloc[[0,2]]"
      ],
      "execution_count": null,
      "outputs": [
        {
          "output_type": "execute_result",
          "data": {
            "text/html": [
              "<div>\n",
              "<style scoped>\n",
              "    .dataframe tbody tr th:only-of-type {\n",
              "        vertical-align: middle;\n",
              "    }\n",
              "\n",
              "    .dataframe tbody tr th {\n",
              "        vertical-align: top;\n",
              "    }\n",
              "\n",
              "    .dataframe thead th {\n",
              "        text-align: right;\n",
              "    }\n",
              "</style>\n",
              "<table border=\"1\" class=\"dataframe\">\n",
              "  <thead>\n",
              "    <tr style=\"text-align: right;\">\n",
              "      <th></th>\n",
              "      <th>age</th>\n",
              "      <th>section</th>\n",
              "      <th>city</th>\n",
              "      <th>gender</th>\n",
              "      <th>favourite_color</th>\n",
              "    </tr>\n",
              "  </thead>\n",
              "  <tbody>\n",
              "    <tr>\n",
              "      <th>0</th>\n",
              "      <td>10</td>\n",
              "      <td>A</td>\n",
              "      <td>Gurgaon</td>\n",
              "      <td>M</td>\n",
              "      <td>red</td>\n",
              "    </tr>\n",
              "    <tr>\n",
              "      <th>2</th>\n",
              "      <td>13</td>\n",
              "      <td>M</td>\n",
              "      <td>Mumbai</td>\n",
              "      <td>F</td>\n",
              "      <td>yellow</td>\n",
              "    </tr>\n",
              "  </tbody>\n",
              "</table>\n",
              "</div>"
            ],
            "text/plain": [
              "   age section     city gender favourite_color\n",
              "0   10       A  Gurgaon      M             red\n",
              "2   13       M   Mumbai      F          yellow"
            ]
          },
          "metadata": {
            "tags": []
          },
          "execution_count": 10
        }
      ]
    },
    {
      "cell_type": "code",
      "metadata": {
        "id": "ynGUXYwZ5fki",
        "colab_type": "code",
        "colab": {},
        "outputId": "02533fdd-f59c-4922-9884-2813e505f22e"
      },
      "source": [
        "# select rows with particular indexes and particular columns\n",
        "data.iloc[[0,2],[1,3]]"
      ],
      "execution_count": null,
      "outputs": [
        {
          "output_type": "execute_result",
          "data": {
            "text/html": [
              "<div>\n",
              "<style scoped>\n",
              "    .dataframe tbody tr th:only-of-type {\n",
              "        vertical-align: middle;\n",
              "    }\n",
              "\n",
              "    .dataframe tbody tr th {\n",
              "        vertical-align: top;\n",
              "    }\n",
              "\n",
              "    .dataframe thead th {\n",
              "        text-align: right;\n",
              "    }\n",
              "</style>\n",
              "<table border=\"1\" class=\"dataframe\">\n",
              "  <thead>\n",
              "    <tr style=\"text-align: right;\">\n",
              "      <th></th>\n",
              "      <th>section</th>\n",
              "      <th>gender</th>\n",
              "    </tr>\n",
              "  </thead>\n",
              "  <tbody>\n",
              "    <tr>\n",
              "      <th>0</th>\n",
              "      <td>A</td>\n",
              "      <td>M</td>\n",
              "    </tr>\n",
              "    <tr>\n",
              "      <th>2</th>\n",
              "      <td>M</td>\n",
              "      <td>F</td>\n",
              "    </tr>\n",
              "  </tbody>\n",
              "</table>\n",
              "</div>"
            ],
            "text/plain": [
              "  section gender\n",
              "0       A      M\n",
              "2       M      F"
            ]
          },
          "metadata": {
            "tags": []
          },
          "execution_count": 11
        }
      ]
    },
    {
      "cell_type": "code",
      "metadata": {
        "id": "rxQNa0IP5fkl",
        "colab_type": "code",
        "colab": {},
        "outputId": "d56eb0ce-3e66-4230-db96-854546002eb5"
      },
      "source": [
        "# select a range of rows\n",
        "data.iloc[1:3]"
      ],
      "execution_count": null,
      "outputs": [
        {
          "output_type": "execute_result",
          "data": {
            "text/html": [
              "<div>\n",
              "<style scoped>\n",
              "    .dataframe tbody tr th:only-of-type {\n",
              "        vertical-align: middle;\n",
              "    }\n",
              "\n",
              "    .dataframe tbody tr th {\n",
              "        vertical-align: top;\n",
              "    }\n",
              "\n",
              "    .dataframe thead th {\n",
              "        text-align: right;\n",
              "    }\n",
              "</style>\n",
              "<table border=\"1\" class=\"dataframe\">\n",
              "  <thead>\n",
              "    <tr style=\"text-align: right;\">\n",
              "      <th></th>\n",
              "      <th>age</th>\n",
              "      <th>section</th>\n",
              "      <th>city</th>\n",
              "      <th>gender</th>\n",
              "      <th>favourite_color</th>\n",
              "    </tr>\n",
              "  </thead>\n",
              "  <tbody>\n",
              "    <tr>\n",
              "      <th>1</th>\n",
              "      <td>22</td>\n",
              "      <td>S</td>\n",
              "      <td>Pune</td>\n",
              "      <td>F</td>\n",
              "      <td>NaN</td>\n",
              "    </tr>\n",
              "    <tr>\n",
              "      <th>2</th>\n",
              "      <td>13</td>\n",
              "      <td>M</td>\n",
              "      <td>Mumbai</td>\n",
              "      <td>F</td>\n",
              "      <td>yellow</td>\n",
              "    </tr>\n",
              "  </tbody>\n",
              "</table>\n",
              "</div>"
            ],
            "text/plain": [
              "   age section    city gender favourite_color\n",
              "1   22       S    Pune      F             NaN\n",
              "2   13       M  Mumbai      F          yellow"
            ]
          },
          "metadata": {
            "tags": []
          },
          "execution_count": 12
        }
      ]
    },
    {
      "cell_type": "code",
      "metadata": {
        "id": "VWn7TTZJ5fko",
        "colab_type": "code",
        "colab": {},
        "outputId": "88f23bb5-27b7-45e4-b078-45ed122614fe"
      },
      "source": [
        "# select a range of rows and columns\n",
        "data.iloc[1:3,2:4]"
      ],
      "execution_count": null,
      "outputs": [
        {
          "output_type": "execute_result",
          "data": {
            "text/html": [
              "<div>\n",
              "<style scoped>\n",
              "    .dataframe tbody tr th:only-of-type {\n",
              "        vertical-align: middle;\n",
              "    }\n",
              "\n",
              "    .dataframe tbody tr th {\n",
              "        vertical-align: top;\n",
              "    }\n",
              "\n",
              "    .dataframe thead th {\n",
              "        text-align: right;\n",
              "    }\n",
              "</style>\n",
              "<table border=\"1\" class=\"dataframe\">\n",
              "  <thead>\n",
              "    <tr style=\"text-align: right;\">\n",
              "      <th></th>\n",
              "      <th>city</th>\n",
              "      <th>gender</th>\n",
              "    </tr>\n",
              "  </thead>\n",
              "  <tbody>\n",
              "    <tr>\n",
              "      <th>1</th>\n",
              "      <td>Pune</td>\n",
              "      <td>F</td>\n",
              "    </tr>\n",
              "    <tr>\n",
              "      <th>2</th>\n",
              "      <td>Mumbai</td>\n",
              "      <td>F</td>\n",
              "    </tr>\n",
              "  </tbody>\n",
              "</table>\n",
              "</div>"
            ],
            "text/plain": [
              "     city gender\n",
              "1    Pune      F\n",
              "2  Mumbai      F"
            ]
          },
          "metadata": {
            "tags": []
          },
          "execution_count": 13
        }
      ]
    },
    {
      "cell_type": "code",
      "metadata": {
        "id": "ZsB69lt15fkt",
        "colab_type": "code",
        "colab": {}
      },
      "source": [
        "# importing the module \n",
        "import pandas as pd"
      ],
      "execution_count": null,
      "outputs": []
    },
    {
      "cell_type": "code",
      "metadata": {
        "id": "F8vtpg6s5fkw",
        "colab_type": "code",
        "colab": {},
        "outputId": "ae5a4985-110c-47f8-edbb-4cbe586e699b"
      },
      "source": [
        "# creating a sample dataframe \n",
        "data = pd.DataFrame({'Brand' : ['Maruti', 'Hyundai', 'Tata', \n",
        "                                'Mahindra', 'Maruti', 'Hyundai', \n",
        "                                'Renault', 'Tata', 'Maruti'], \n",
        "                     'Year' : [2012, 2014, 2011, 2015, 2012,  \n",
        "                               2016, 2014, 2018, 2019], \n",
        "                     'Kms Driven' : [50000, 30000, 60000,  \n",
        "                                     25000, 10000, 46000,  \n",
        "                                     31000, 15000, 12000], \n",
        "                     'City' : ['Gurgaon', 'Delhi', 'Mumbai',  \n",
        "                               'Delhi', 'Mumbai', 'Delhi',  \n",
        "                               'Mumbai','Chennai',  'Ghaziabad'], \n",
        "                     'Mileage' :  [28, 27, 25, 26, 28,  \n",
        "                                   29, 24, 21, 24]}) \n",
        "   \n",
        "# displaying the DataFrame \n",
        "display(data) "
      ],
      "execution_count": null,
      "outputs": [
        {
          "output_type": "display_data",
          "data": {
            "text/html": [
              "<div>\n",
              "<style scoped>\n",
              "    .dataframe tbody tr th:only-of-type {\n",
              "        vertical-align: middle;\n",
              "    }\n",
              "\n",
              "    .dataframe tbody tr th {\n",
              "        vertical-align: top;\n",
              "    }\n",
              "\n",
              "    .dataframe thead th {\n",
              "        text-align: right;\n",
              "    }\n",
              "</style>\n",
              "<table border=\"1\" class=\"dataframe\">\n",
              "  <thead>\n",
              "    <tr style=\"text-align: right;\">\n",
              "      <th></th>\n",
              "      <th>Brand</th>\n",
              "      <th>Year</th>\n",
              "      <th>Kms Driven</th>\n",
              "      <th>City</th>\n",
              "      <th>Mileage</th>\n",
              "    </tr>\n",
              "  </thead>\n",
              "  <tbody>\n",
              "    <tr>\n",
              "      <th>0</th>\n",
              "      <td>Maruti</td>\n",
              "      <td>2012</td>\n",
              "      <td>50000</td>\n",
              "      <td>Gurgaon</td>\n",
              "      <td>28</td>\n",
              "    </tr>\n",
              "    <tr>\n",
              "      <th>1</th>\n",
              "      <td>Hyundai</td>\n",
              "      <td>2014</td>\n",
              "      <td>30000</td>\n",
              "      <td>Delhi</td>\n",
              "      <td>27</td>\n",
              "    </tr>\n",
              "    <tr>\n",
              "      <th>2</th>\n",
              "      <td>Tata</td>\n",
              "      <td>2011</td>\n",
              "      <td>60000</td>\n",
              "      <td>Mumbai</td>\n",
              "      <td>25</td>\n",
              "    </tr>\n",
              "    <tr>\n",
              "      <th>3</th>\n",
              "      <td>Mahindra</td>\n",
              "      <td>2015</td>\n",
              "      <td>25000</td>\n",
              "      <td>Delhi</td>\n",
              "      <td>26</td>\n",
              "    </tr>\n",
              "    <tr>\n",
              "      <th>4</th>\n",
              "      <td>Maruti</td>\n",
              "      <td>2012</td>\n",
              "      <td>10000</td>\n",
              "      <td>Mumbai</td>\n",
              "      <td>28</td>\n",
              "    </tr>\n",
              "    <tr>\n",
              "      <th>5</th>\n",
              "      <td>Hyundai</td>\n",
              "      <td>2016</td>\n",
              "      <td>46000</td>\n",
              "      <td>Delhi</td>\n",
              "      <td>29</td>\n",
              "    </tr>\n",
              "    <tr>\n",
              "      <th>6</th>\n",
              "      <td>Renault</td>\n",
              "      <td>2014</td>\n",
              "      <td>31000</td>\n",
              "      <td>Mumbai</td>\n",
              "      <td>24</td>\n",
              "    </tr>\n",
              "    <tr>\n",
              "      <th>7</th>\n",
              "      <td>Tata</td>\n",
              "      <td>2018</td>\n",
              "      <td>15000</td>\n",
              "      <td>Chennai</td>\n",
              "      <td>21</td>\n",
              "    </tr>\n",
              "    <tr>\n",
              "      <th>8</th>\n",
              "      <td>Maruti</td>\n",
              "      <td>2019</td>\n",
              "      <td>12000</td>\n",
              "      <td>Ghaziabad</td>\n",
              "      <td>24</td>\n",
              "    </tr>\n",
              "  </tbody>\n",
              "</table>\n",
              "</div>"
            ],
            "text/plain": [
              "      Brand  Year  Kms Driven       City  Mileage\n",
              "0    Maruti  2012       50000    Gurgaon       28\n",
              "1   Hyundai  2014       30000      Delhi       27\n",
              "2      Tata  2011       60000     Mumbai       25\n",
              "3  Mahindra  2015       25000      Delhi       26\n",
              "4    Maruti  2012       10000     Mumbai       28\n",
              "5   Hyundai  2016       46000      Delhi       29\n",
              "6   Renault  2014       31000     Mumbai       24\n",
              "7      Tata  2018       15000    Chennai       21\n",
              "8    Maruti  2019       12000  Ghaziabad       24"
            ]
          },
          "metadata": {
            "tags": []
          }
        }
      ]
    },
    {
      "cell_type": "code",
      "metadata": {
        "id": "7UXiqvA25fky",
        "colab_type": "code",
        "colab": {},
        "outputId": "e1801327-a13d-4e81-a283-3ee6130e644f"
      },
      "source": [
        "# selecting cars with brand 'Maruti' and Mileage > 25 \n",
        "display(data.loc[(data.Brand == 'Maruti') & (data.Mileage > 25)]) "
      ],
      "execution_count": null,
      "outputs": [
        {
          "output_type": "display_data",
          "data": {
            "text/html": [
              "<div>\n",
              "<style scoped>\n",
              "    .dataframe tbody tr th:only-of-type {\n",
              "        vertical-align: middle;\n",
              "    }\n",
              "\n",
              "    .dataframe tbody tr th {\n",
              "        vertical-align: top;\n",
              "    }\n",
              "\n",
              "    .dataframe thead th {\n",
              "        text-align: right;\n",
              "    }\n",
              "</style>\n",
              "<table border=\"1\" class=\"dataframe\">\n",
              "  <thead>\n",
              "    <tr style=\"text-align: right;\">\n",
              "      <th></th>\n",
              "      <th>Brand</th>\n",
              "      <th>Year</th>\n",
              "      <th>Kms Driven</th>\n",
              "      <th>City</th>\n",
              "      <th>Mileage</th>\n",
              "    </tr>\n",
              "  </thead>\n",
              "  <tbody>\n",
              "    <tr>\n",
              "      <th>0</th>\n",
              "      <td>Maruti</td>\n",
              "      <td>2012</td>\n",
              "      <td>50000</td>\n",
              "      <td>Gurgaon</td>\n",
              "      <td>28</td>\n",
              "    </tr>\n",
              "    <tr>\n",
              "      <th>4</th>\n",
              "      <td>Maruti</td>\n",
              "      <td>2012</td>\n",
              "      <td>10000</td>\n",
              "      <td>Mumbai</td>\n",
              "      <td>28</td>\n",
              "    </tr>\n",
              "  </tbody>\n",
              "</table>\n",
              "</div>"
            ],
            "text/plain": [
              "    Brand  Year  Kms Driven     City  Mileage\n",
              "0  Maruti  2012       50000  Gurgaon       28\n",
              "4  Maruti  2012       10000   Mumbai       28"
            ]
          },
          "metadata": {
            "tags": []
          }
        }
      ]
    },
    {
      "cell_type": "code",
      "metadata": {
        "id": "PQXVjBqP5fk1",
        "colab_type": "code",
        "colab": {},
        "outputId": "7684bf04-2a57-46aa-dec0-79fb3630e7b8"
      },
      "source": [
        "# selecting range of rows from 2 to 5 \n",
        "display(data.loc[2 : 5]) "
      ],
      "execution_count": null,
      "outputs": [
        {
          "output_type": "display_data",
          "data": {
            "text/html": [
              "<div>\n",
              "<style scoped>\n",
              "    .dataframe tbody tr th:only-of-type {\n",
              "        vertical-align: middle;\n",
              "    }\n",
              "\n",
              "    .dataframe tbody tr th {\n",
              "        vertical-align: top;\n",
              "    }\n",
              "\n",
              "    .dataframe thead th {\n",
              "        text-align: right;\n",
              "    }\n",
              "</style>\n",
              "<table border=\"1\" class=\"dataframe\">\n",
              "  <thead>\n",
              "    <tr style=\"text-align: right;\">\n",
              "      <th></th>\n",
              "      <th>Brand</th>\n",
              "      <th>Year</th>\n",
              "      <th>Kms Driven</th>\n",
              "      <th>City</th>\n",
              "      <th>Mileage</th>\n",
              "    </tr>\n",
              "  </thead>\n",
              "  <tbody>\n",
              "    <tr>\n",
              "      <th>2</th>\n",
              "      <td>Tata</td>\n",
              "      <td>2011</td>\n",
              "      <td>60000</td>\n",
              "      <td>Mumbai</td>\n",
              "      <td>25</td>\n",
              "    </tr>\n",
              "    <tr>\n",
              "      <th>3</th>\n",
              "      <td>Mahindra</td>\n",
              "      <td>2015</td>\n",
              "      <td>25000</td>\n",
              "      <td>Delhi</td>\n",
              "      <td>26</td>\n",
              "    </tr>\n",
              "    <tr>\n",
              "      <th>4</th>\n",
              "      <td>Maruti</td>\n",
              "      <td>2012</td>\n",
              "      <td>10000</td>\n",
              "      <td>Mumbai</td>\n",
              "      <td>28</td>\n",
              "    </tr>\n",
              "    <tr>\n",
              "      <th>5</th>\n",
              "      <td>Hyundai</td>\n",
              "      <td>2016</td>\n",
              "      <td>46000</td>\n",
              "      <td>Delhi</td>\n",
              "      <td>29</td>\n",
              "    </tr>\n",
              "  </tbody>\n",
              "</table>\n",
              "</div>"
            ],
            "text/plain": [
              "      Brand  Year  Kms Driven    City  Mileage\n",
              "2      Tata  2011       60000  Mumbai       25\n",
              "3  Mahindra  2015       25000   Delhi       26\n",
              "4    Maruti  2012       10000  Mumbai       28\n",
              "5   Hyundai  2016       46000   Delhi       29"
            ]
          },
          "metadata": {
            "tags": []
          }
        }
      ]
    },
    {
      "cell_type": "code",
      "metadata": {
        "id": "6b3ApQNa5fk4",
        "colab_type": "code",
        "colab": {},
        "outputId": "8e61385d-0c38-40f9-f7cd-f897c14e2ac5"
      },
      "source": [
        "# updating values of Mileage if Year < 2015 \n",
        "data.loc[(data.Year < 2015), ['Mileage']] = 22\n",
        "display(data) "
      ],
      "execution_count": null,
      "outputs": [
        {
          "output_type": "display_data",
          "data": {
            "text/html": [
              "<div>\n",
              "<style scoped>\n",
              "    .dataframe tbody tr th:only-of-type {\n",
              "        vertical-align: middle;\n",
              "    }\n",
              "\n",
              "    .dataframe tbody tr th {\n",
              "        vertical-align: top;\n",
              "    }\n",
              "\n",
              "    .dataframe thead th {\n",
              "        text-align: right;\n",
              "    }\n",
              "</style>\n",
              "<table border=\"1\" class=\"dataframe\">\n",
              "  <thead>\n",
              "    <tr style=\"text-align: right;\">\n",
              "      <th></th>\n",
              "      <th>Brand</th>\n",
              "      <th>Year</th>\n",
              "      <th>Kms Driven</th>\n",
              "      <th>City</th>\n",
              "      <th>Mileage</th>\n",
              "    </tr>\n",
              "  </thead>\n",
              "  <tbody>\n",
              "    <tr>\n",
              "      <th>0</th>\n",
              "      <td>Maruti</td>\n",
              "      <td>2012</td>\n",
              "      <td>50000</td>\n",
              "      <td>Gurgaon</td>\n",
              "      <td>22</td>\n",
              "    </tr>\n",
              "    <tr>\n",
              "      <th>1</th>\n",
              "      <td>Hyundai</td>\n",
              "      <td>2014</td>\n",
              "      <td>30000</td>\n",
              "      <td>Delhi</td>\n",
              "      <td>22</td>\n",
              "    </tr>\n",
              "    <tr>\n",
              "      <th>2</th>\n",
              "      <td>Tata</td>\n",
              "      <td>2011</td>\n",
              "      <td>60000</td>\n",
              "      <td>Mumbai</td>\n",
              "      <td>22</td>\n",
              "    </tr>\n",
              "    <tr>\n",
              "      <th>3</th>\n",
              "      <td>Mahindra</td>\n",
              "      <td>2015</td>\n",
              "      <td>25000</td>\n",
              "      <td>Delhi</td>\n",
              "      <td>26</td>\n",
              "    </tr>\n",
              "    <tr>\n",
              "      <th>4</th>\n",
              "      <td>Maruti</td>\n",
              "      <td>2012</td>\n",
              "      <td>10000</td>\n",
              "      <td>Mumbai</td>\n",
              "      <td>22</td>\n",
              "    </tr>\n",
              "    <tr>\n",
              "      <th>5</th>\n",
              "      <td>Hyundai</td>\n",
              "      <td>2016</td>\n",
              "      <td>46000</td>\n",
              "      <td>Delhi</td>\n",
              "      <td>29</td>\n",
              "    </tr>\n",
              "    <tr>\n",
              "      <th>6</th>\n",
              "      <td>Renault</td>\n",
              "      <td>2014</td>\n",
              "      <td>31000</td>\n",
              "      <td>Mumbai</td>\n",
              "      <td>22</td>\n",
              "    </tr>\n",
              "    <tr>\n",
              "      <th>7</th>\n",
              "      <td>Tata</td>\n",
              "      <td>2018</td>\n",
              "      <td>15000</td>\n",
              "      <td>Chennai</td>\n",
              "      <td>21</td>\n",
              "    </tr>\n",
              "    <tr>\n",
              "      <th>8</th>\n",
              "      <td>Maruti</td>\n",
              "      <td>2019</td>\n",
              "      <td>12000</td>\n",
              "      <td>Ghaziabad</td>\n",
              "      <td>24</td>\n",
              "    </tr>\n",
              "  </tbody>\n",
              "</table>\n",
              "</div>"
            ],
            "text/plain": [
              "      Brand  Year  Kms Driven       City  Mileage\n",
              "0    Maruti  2012       50000    Gurgaon       22\n",
              "1   Hyundai  2014       30000      Delhi       22\n",
              "2      Tata  2011       60000     Mumbai       22\n",
              "3  Mahindra  2015       25000      Delhi       26\n",
              "4    Maruti  2012       10000     Mumbai       22\n",
              "5   Hyundai  2016       46000      Delhi       29\n",
              "6   Renault  2014       31000     Mumbai       22\n",
              "7      Tata  2018       15000    Chennai       21\n",
              "8    Maruti  2019       12000  Ghaziabad       24"
            ]
          },
          "metadata": {
            "tags": []
          }
        }
      ]
    },
    {
      "cell_type": "code",
      "metadata": {
        "id": "rW1kivgx5fk7",
        "colab_type": "code",
        "colab": {},
        "outputId": "40f83f38-f767-418d-8016-9059f12a9dac"
      },
      "source": [
        "# selecting 0th, 2th, 4th, and 7th index rows \n",
        "display(data.iloc[[0, 2, 4, 7]]) "
      ],
      "execution_count": null,
      "outputs": [
        {
          "output_type": "display_data",
          "data": {
            "text/html": [
              "<div>\n",
              "<style scoped>\n",
              "    .dataframe tbody tr th:only-of-type {\n",
              "        vertical-align: middle;\n",
              "    }\n",
              "\n",
              "    .dataframe tbody tr th {\n",
              "        vertical-align: top;\n",
              "    }\n",
              "\n",
              "    .dataframe thead th {\n",
              "        text-align: right;\n",
              "    }\n",
              "</style>\n",
              "<table border=\"1\" class=\"dataframe\">\n",
              "  <thead>\n",
              "    <tr style=\"text-align: right;\">\n",
              "      <th></th>\n",
              "      <th>Brand</th>\n",
              "      <th>Year</th>\n",
              "      <th>Kms Driven</th>\n",
              "      <th>City</th>\n",
              "      <th>Mileage</th>\n",
              "    </tr>\n",
              "  </thead>\n",
              "  <tbody>\n",
              "    <tr>\n",
              "      <th>0</th>\n",
              "      <td>Maruti</td>\n",
              "      <td>2012</td>\n",
              "      <td>50000</td>\n",
              "      <td>Gurgaon</td>\n",
              "      <td>22</td>\n",
              "    </tr>\n",
              "    <tr>\n",
              "      <th>2</th>\n",
              "      <td>Tata</td>\n",
              "      <td>2011</td>\n",
              "      <td>60000</td>\n",
              "      <td>Mumbai</td>\n",
              "      <td>22</td>\n",
              "    </tr>\n",
              "    <tr>\n",
              "      <th>4</th>\n",
              "      <td>Maruti</td>\n",
              "      <td>2012</td>\n",
              "      <td>10000</td>\n",
              "      <td>Mumbai</td>\n",
              "      <td>22</td>\n",
              "    </tr>\n",
              "    <tr>\n",
              "      <th>7</th>\n",
              "      <td>Tata</td>\n",
              "      <td>2018</td>\n",
              "      <td>15000</td>\n",
              "      <td>Chennai</td>\n",
              "      <td>21</td>\n",
              "    </tr>\n",
              "  </tbody>\n",
              "</table>\n",
              "</div>"
            ],
            "text/plain": [
              "    Brand  Year  Kms Driven     City  Mileage\n",
              "0  Maruti  2012       50000  Gurgaon       22\n",
              "2    Tata  2011       60000   Mumbai       22\n",
              "4  Maruti  2012       10000   Mumbai       22\n",
              "7    Tata  2018       15000  Chennai       21"
            ]
          },
          "metadata": {
            "tags": []
          }
        }
      ]
    },
    {
      "cell_type": "code",
      "metadata": {
        "id": "EDBHxdo55fk-",
        "colab_type": "code",
        "colab": {},
        "outputId": "b2a77f96-6d37-47e1-e050-4ca7528f25d9"
      },
      "source": [
        "# selecting rows from 1 to 4 and columns from 2 to 4 \n",
        "display(data.iloc[1 : 5, 2 : 5]) "
      ],
      "execution_count": null,
      "outputs": [
        {
          "output_type": "display_data",
          "data": {
            "text/html": [
              "<div>\n",
              "<style scoped>\n",
              "    .dataframe tbody tr th:only-of-type {\n",
              "        vertical-align: middle;\n",
              "    }\n",
              "\n",
              "    .dataframe tbody tr th {\n",
              "        vertical-align: top;\n",
              "    }\n",
              "\n",
              "    .dataframe thead th {\n",
              "        text-align: right;\n",
              "    }\n",
              "</style>\n",
              "<table border=\"1\" class=\"dataframe\">\n",
              "  <thead>\n",
              "    <tr style=\"text-align: right;\">\n",
              "      <th></th>\n",
              "      <th>Kms Driven</th>\n",
              "      <th>City</th>\n",
              "      <th>Mileage</th>\n",
              "    </tr>\n",
              "  </thead>\n",
              "  <tbody>\n",
              "    <tr>\n",
              "      <th>1</th>\n",
              "      <td>30000</td>\n",
              "      <td>Delhi</td>\n",
              "      <td>22</td>\n",
              "    </tr>\n",
              "    <tr>\n",
              "      <th>2</th>\n",
              "      <td>60000</td>\n",
              "      <td>Mumbai</td>\n",
              "      <td>22</td>\n",
              "    </tr>\n",
              "    <tr>\n",
              "      <th>3</th>\n",
              "      <td>25000</td>\n",
              "      <td>Delhi</td>\n",
              "      <td>26</td>\n",
              "    </tr>\n",
              "    <tr>\n",
              "      <th>4</th>\n",
              "      <td>10000</td>\n",
              "      <td>Mumbai</td>\n",
              "      <td>22</td>\n",
              "    </tr>\n",
              "  </tbody>\n",
              "</table>\n",
              "</div>"
            ],
            "text/plain": [
              "   Kms Driven    City  Mileage\n",
              "1       30000   Delhi       22\n",
              "2       60000  Mumbai       22\n",
              "3       25000   Delhi       26\n",
              "4       10000  Mumbai       22"
            ]
          },
          "metadata": {
            "tags": []
          }
        }
      ]
    },
    {
      "cell_type": "code",
      "metadata": {
        "id": "PKlRIB8-5flA",
        "colab_type": "code",
        "colab": {}
      },
      "source": [
        "s = pd.Series(np.nan, index=[49,48,47,46,45, 1, 2, 3, 4, 5])"
      ],
      "execution_count": null,
      "outputs": []
    },
    {
      "cell_type": "code",
      "metadata": {
        "id": "a1fBzyqa5flC",
        "colab_type": "code",
        "colab": {},
        "outputId": "98275df5-398b-4885-d77b-b82090d4f93b"
      },
      "source": [
        "s"
      ],
      "execution_count": null,
      "outputs": [
        {
          "output_type": "execute_result",
          "data": {
            "text/plain": [
              "49   NaN\n",
              "48   NaN\n",
              "47   NaN\n",
              "46   NaN\n",
              "45   NaN\n",
              "1    NaN\n",
              "2    NaN\n",
              "3    NaN\n",
              "4    NaN\n",
              "5    NaN\n",
              "dtype: float64"
            ]
          },
          "metadata": {
            "tags": []
          },
          "execution_count": 22
        }
      ]
    },
    {
      "cell_type": "code",
      "metadata": {
        "id": "RArzC3bd5flF",
        "colab_type": "code",
        "colab": {},
        "outputId": "766bb141-94bb-4395-8b5b-8ec9f390da7b"
      },
      "source": [
        "s.iloc[:3]"
      ],
      "execution_count": null,
      "outputs": [
        {
          "output_type": "execute_result",
          "data": {
            "text/plain": [
              "49   NaN\n",
              "48   NaN\n",
              "47   NaN\n",
              "dtype: float64"
            ]
          },
          "metadata": {
            "tags": []
          },
          "execution_count": 23
        }
      ]
    },
    {
      "cell_type": "code",
      "metadata": {
        "id": "-5xYRsRS5flH",
        "colab_type": "code",
        "colab": {},
        "outputId": "201ca5f7-3603-4aa7-b1bc-f5db881ca975"
      },
      "source": [
        "s.loc[:3]"
      ],
      "execution_count": null,
      "outputs": [
        {
          "output_type": "execute_result",
          "data": {
            "text/plain": [
              "49   NaN\n",
              "48   NaN\n",
              "47   NaN\n",
              "46   NaN\n",
              "45   NaN\n",
              "1    NaN\n",
              "2    NaN\n",
              "3    NaN\n",
              "dtype: float64"
            ]
          },
          "metadata": {
            "tags": []
          },
          "execution_count": 24
        }
      ]
    },
    {
      "cell_type": "code",
      "metadata": {
        "id": "3tt4I2nI5flK",
        "colab_type": "code",
        "colab": {},
        "outputId": "75baf3b6-f966-486c-cb2c-5e8e115abf0b"
      },
      "source": [
        "s.iloc[:6]"
      ],
      "execution_count": null,
      "outputs": [
        {
          "output_type": "execute_result",
          "data": {
            "text/plain": [
              "49   NaN\n",
              "48   NaN\n",
              "47   NaN\n",
              "46   NaN\n",
              "45   NaN\n",
              "1    NaN\n",
              "dtype: float64"
            ]
          },
          "metadata": {
            "tags": []
          },
          "execution_count": 25
        }
      ]
    },
    {
      "cell_type": "code",
      "metadata": {
        "id": "aEjtQhxQ5flM",
        "colab_type": "code",
        "colab": {}
      },
      "source": [
        "df = pd.DataFrame({'age':[30, 2, 12, 4, 32, 33, 69],\n",
        "                   'color':['blue', 'green', 'red', 'white', 'gray', 'black', 'red'],\n",
        "                   'food':['Steak', 'Lamb', 'Mango', 'Apple', 'Cheese', 'Melon', 'Beans'],\n",
        "                   'height':[165, 70, 120, 80, 180, 172, 150],\n",
        "                   'score':[4.6, 8.3, 9.0, 3.3, 1.8, 9.5, 2.2],\n",
        "                   'state':['NY', 'TX', 'FL', 'AL', 'AK', 'TX', 'TX']\n",
        "                   },\n",
        "                  index=['Jane', 'Nick', 'Aaron', 'Penelope', 'Dean', 'Christina', 'Cornelia'])"
      ],
      "execution_count": null,
      "outputs": []
    },
    {
      "cell_type": "code",
      "metadata": {
        "id": "jPwX4suD5flO",
        "colab_type": "code",
        "colab": {},
        "outputId": "bf354d6c-3d75-4845-cb5e-88b83ed208a6"
      },
      "source": [
        "df.loc['Penelope']"
      ],
      "execution_count": null,
      "outputs": [
        {
          "output_type": "execute_result",
          "data": {
            "text/plain": [
              "age           4\n",
              "color     white\n",
              "food      Apple\n",
              "height       80\n",
              "score       3.3\n",
              "state        AL\n",
              "Name: Penelope, dtype: object"
            ]
          },
          "metadata": {
            "tags": []
          },
          "execution_count": 27
        }
      ]
    },
    {
      "cell_type": "code",
      "metadata": {
        "id": "H7si_5vu5flR",
        "colab_type": "code",
        "colab": {},
        "outputId": "cdf11cff-6e5c-4721-af1b-7759398255c1"
      },
      "source": [
        "df.loc[['Cornelia', 'Jane', 'Dean']]"
      ],
      "execution_count": null,
      "outputs": [
        {
          "output_type": "execute_result",
          "data": {
            "text/html": [
              "<div>\n",
              "<style scoped>\n",
              "    .dataframe tbody tr th:only-of-type {\n",
              "        vertical-align: middle;\n",
              "    }\n",
              "\n",
              "    .dataframe tbody tr th {\n",
              "        vertical-align: top;\n",
              "    }\n",
              "\n",
              "    .dataframe thead th {\n",
              "        text-align: right;\n",
              "    }\n",
              "</style>\n",
              "<table border=\"1\" class=\"dataframe\">\n",
              "  <thead>\n",
              "    <tr style=\"text-align: right;\">\n",
              "      <th></th>\n",
              "      <th>age</th>\n",
              "      <th>color</th>\n",
              "      <th>food</th>\n",
              "      <th>height</th>\n",
              "      <th>score</th>\n",
              "      <th>state</th>\n",
              "    </tr>\n",
              "  </thead>\n",
              "  <tbody>\n",
              "    <tr>\n",
              "      <th>Cornelia</th>\n",
              "      <td>69</td>\n",
              "      <td>red</td>\n",
              "      <td>Beans</td>\n",
              "      <td>150</td>\n",
              "      <td>2.2</td>\n",
              "      <td>TX</td>\n",
              "    </tr>\n",
              "    <tr>\n",
              "      <th>Jane</th>\n",
              "      <td>30</td>\n",
              "      <td>blue</td>\n",
              "      <td>Steak</td>\n",
              "      <td>165</td>\n",
              "      <td>4.6</td>\n",
              "      <td>NY</td>\n",
              "    </tr>\n",
              "    <tr>\n",
              "      <th>Dean</th>\n",
              "      <td>32</td>\n",
              "      <td>gray</td>\n",
              "      <td>Cheese</td>\n",
              "      <td>180</td>\n",
              "      <td>1.8</td>\n",
              "      <td>AK</td>\n",
              "    </tr>\n",
              "  </tbody>\n",
              "</table>\n",
              "</div>"
            ],
            "text/plain": [
              "          age color    food  height  score state\n",
              "Cornelia   69   red   Beans     150    2.2    TX\n",
              "Jane       30  blue   Steak     165    4.6    NY\n",
              "Dean       32  gray  Cheese     180    1.8    AK"
            ]
          },
          "metadata": {
            "tags": []
          },
          "execution_count": 28
        }
      ]
    },
    {
      "cell_type": "code",
      "metadata": {
        "id": "J-uuqo4i5flU",
        "colab_type": "code",
        "colab": {},
        "outputId": "e6f4ccec-ec2a-4761-e9fa-9b35c2ecf729"
      },
      "source": [
        "df.loc['Aaron':'Dean']"
      ],
      "execution_count": null,
      "outputs": [
        {
          "output_type": "execute_result",
          "data": {
            "text/html": [
              "<div>\n",
              "<style scoped>\n",
              "    .dataframe tbody tr th:only-of-type {\n",
              "        vertical-align: middle;\n",
              "    }\n",
              "\n",
              "    .dataframe tbody tr th {\n",
              "        vertical-align: top;\n",
              "    }\n",
              "\n",
              "    .dataframe thead th {\n",
              "        text-align: right;\n",
              "    }\n",
              "</style>\n",
              "<table border=\"1\" class=\"dataframe\">\n",
              "  <thead>\n",
              "    <tr style=\"text-align: right;\">\n",
              "      <th></th>\n",
              "      <th>age</th>\n",
              "      <th>color</th>\n",
              "      <th>food</th>\n",
              "      <th>height</th>\n",
              "      <th>score</th>\n",
              "      <th>state</th>\n",
              "    </tr>\n",
              "  </thead>\n",
              "  <tbody>\n",
              "    <tr>\n",
              "      <th>Aaron</th>\n",
              "      <td>12</td>\n",
              "      <td>red</td>\n",
              "      <td>Mango</td>\n",
              "      <td>120</td>\n",
              "      <td>9.0</td>\n",
              "      <td>FL</td>\n",
              "    </tr>\n",
              "    <tr>\n",
              "      <th>Penelope</th>\n",
              "      <td>4</td>\n",
              "      <td>white</td>\n",
              "      <td>Apple</td>\n",
              "      <td>80</td>\n",
              "      <td>3.3</td>\n",
              "      <td>AL</td>\n",
              "    </tr>\n",
              "    <tr>\n",
              "      <th>Dean</th>\n",
              "      <td>32</td>\n",
              "      <td>gray</td>\n",
              "      <td>Cheese</td>\n",
              "      <td>180</td>\n",
              "      <td>1.8</td>\n",
              "      <td>AK</td>\n",
              "    </tr>\n",
              "  </tbody>\n",
              "</table>\n",
              "</div>"
            ],
            "text/plain": [
              "          age  color    food  height  score state\n",
              "Aaron      12    red   Mango     120    9.0    FL\n",
              "Penelope    4  white   Apple      80    3.3    AL\n",
              "Dean       32   gray  Cheese     180    1.8    AK"
            ]
          },
          "metadata": {
            "tags": []
          },
          "execution_count": 29
        }
      ]
    },
    {
      "cell_type": "code",
      "metadata": {
        "id": "f8G8oQr85flW",
        "colab_type": "code",
        "colab": {},
        "outputId": "ce22e875-12e6-49ef-eb91-2ee55816d877"
      },
      "source": [
        "df.iloc[4]"
      ],
      "execution_count": null,
      "outputs": [
        {
          "output_type": "execute_result",
          "data": {
            "text/plain": [
              "age           32\n",
              "color       gray\n",
              "food      Cheese\n",
              "height       180\n",
              "score        1.8\n",
              "state         AK\n",
              "Name: Dean, dtype: object"
            ]
          },
          "metadata": {
            "tags": []
          },
          "execution_count": 30
        }
      ]
    },
    {
      "cell_type": "code",
      "metadata": {
        "id": "iCoGErAR5flY",
        "colab_type": "code",
        "colab": {},
        "outputId": "71000fe5-363d-488d-ae2b-1e1b3a6fff31"
      },
      "source": [
        "df.iloc[[2, -2]]"
      ],
      "execution_count": null,
      "outputs": [
        {
          "output_type": "execute_result",
          "data": {
            "text/html": [
              "<div>\n",
              "<style scoped>\n",
              "    .dataframe tbody tr th:only-of-type {\n",
              "        vertical-align: middle;\n",
              "    }\n",
              "\n",
              "    .dataframe tbody tr th {\n",
              "        vertical-align: top;\n",
              "    }\n",
              "\n",
              "    .dataframe thead th {\n",
              "        text-align: right;\n",
              "    }\n",
              "</style>\n",
              "<table border=\"1\" class=\"dataframe\">\n",
              "  <thead>\n",
              "    <tr style=\"text-align: right;\">\n",
              "      <th></th>\n",
              "      <th>age</th>\n",
              "      <th>color</th>\n",
              "      <th>food</th>\n",
              "      <th>height</th>\n",
              "      <th>score</th>\n",
              "      <th>state</th>\n",
              "    </tr>\n",
              "  </thead>\n",
              "  <tbody>\n",
              "    <tr>\n",
              "      <th>Aaron</th>\n",
              "      <td>12</td>\n",
              "      <td>red</td>\n",
              "      <td>Mango</td>\n",
              "      <td>120</td>\n",
              "      <td>9.0</td>\n",
              "      <td>FL</td>\n",
              "    </tr>\n",
              "    <tr>\n",
              "      <th>Christina</th>\n",
              "      <td>33</td>\n",
              "      <td>black</td>\n",
              "      <td>Melon</td>\n",
              "      <td>172</td>\n",
              "      <td>9.5</td>\n",
              "      <td>TX</td>\n",
              "    </tr>\n",
              "  </tbody>\n",
              "</table>\n",
              "</div>"
            ],
            "text/plain": [
              "           age  color   food  height  score state\n",
              "Aaron       12    red  Mango     120    9.0    FL\n",
              "Christina   33  black  Melon     172    9.5    TX"
            ]
          },
          "metadata": {
            "tags": []
          },
          "execution_count": 31
        }
      ]
    },
    {
      "cell_type": "code",
      "metadata": {
        "id": "94u7Q2ym5flb",
        "colab_type": "code",
        "colab": {},
        "outputId": "48f89636-847e-40da-bba0-1256d1404b5f"
      },
      "source": [
        "df.iloc[:5:3]"
      ],
      "execution_count": null,
      "outputs": [
        {
          "output_type": "execute_result",
          "data": {
            "text/html": [
              "<div>\n",
              "<style scoped>\n",
              "    .dataframe tbody tr th:only-of-type {\n",
              "        vertical-align: middle;\n",
              "    }\n",
              "\n",
              "    .dataframe tbody tr th {\n",
              "        vertical-align: top;\n",
              "    }\n",
              "\n",
              "    .dataframe thead th {\n",
              "        text-align: right;\n",
              "    }\n",
              "</style>\n",
              "<table border=\"1\" class=\"dataframe\">\n",
              "  <thead>\n",
              "    <tr style=\"text-align: right;\">\n",
              "      <th></th>\n",
              "      <th>age</th>\n",
              "      <th>color</th>\n",
              "      <th>food</th>\n",
              "      <th>height</th>\n",
              "      <th>score</th>\n",
              "      <th>state</th>\n",
              "    </tr>\n",
              "  </thead>\n",
              "  <tbody>\n",
              "    <tr>\n",
              "      <th>Jane</th>\n",
              "      <td>30</td>\n",
              "      <td>blue</td>\n",
              "      <td>Steak</td>\n",
              "      <td>165</td>\n",
              "      <td>4.6</td>\n",
              "      <td>NY</td>\n",
              "    </tr>\n",
              "    <tr>\n",
              "      <th>Penelope</th>\n",
              "      <td>4</td>\n",
              "      <td>white</td>\n",
              "      <td>Apple</td>\n",
              "      <td>80</td>\n",
              "      <td>3.3</td>\n",
              "      <td>AL</td>\n",
              "    </tr>\n",
              "  </tbody>\n",
              "</table>\n",
              "</div>"
            ],
            "text/plain": [
              "          age  color   food  height  score state\n",
              "Jane       30   blue  Steak     165    4.6    NY\n",
              "Penelope    4  white  Apple      80    3.3    AL"
            ]
          },
          "metadata": {
            "tags": []
          },
          "execution_count": 32
        }
      ]
    },
    {
      "cell_type": "code",
      "metadata": {
        "id": "5C8ftViG5fld",
        "colab_type": "code",
        "colab": {},
        "outputId": "5c79ec73-1efb-400b-b386-42440c180073"
      },
      "source": [
        "df.loc[['Jane', 'Dean'], 'height':]"
      ],
      "execution_count": null,
      "outputs": [
        {
          "output_type": "execute_result",
          "data": {
            "text/html": [
              "<div>\n",
              "<style scoped>\n",
              "    .dataframe tbody tr th:only-of-type {\n",
              "        vertical-align: middle;\n",
              "    }\n",
              "\n",
              "    .dataframe tbody tr th {\n",
              "        vertical-align: top;\n",
              "    }\n",
              "\n",
              "    .dataframe thead th {\n",
              "        text-align: right;\n",
              "    }\n",
              "</style>\n",
              "<table border=\"1\" class=\"dataframe\">\n",
              "  <thead>\n",
              "    <tr style=\"text-align: right;\">\n",
              "      <th></th>\n",
              "      <th>height</th>\n",
              "      <th>score</th>\n",
              "      <th>state</th>\n",
              "    </tr>\n",
              "  </thead>\n",
              "  <tbody>\n",
              "    <tr>\n",
              "      <th>Jane</th>\n",
              "      <td>165</td>\n",
              "      <td>4.6</td>\n",
              "      <td>NY</td>\n",
              "    </tr>\n",
              "    <tr>\n",
              "      <th>Dean</th>\n",
              "      <td>180</td>\n",
              "      <td>1.8</td>\n",
              "      <td>AK</td>\n",
              "    </tr>\n",
              "  </tbody>\n",
              "</table>\n",
              "</div>"
            ],
            "text/plain": [
              "      height  score state\n",
              "Jane     165    4.6    NY\n",
              "Dean     180    1.8    AK"
            ]
          },
          "metadata": {
            "tags": []
          },
          "execution_count": 33
        }
      ]
    },
    {
      "cell_type": "code",
      "metadata": {
        "id": "NCBd7pDV5flf",
        "colab_type": "code",
        "colab": {},
        "outputId": "8baa2976-a6b0-420b-e0d4-9b2b24ad31b1"
      },
      "source": [
        "df.iloc[[1,4], 2]"
      ],
      "execution_count": null,
      "outputs": [
        {
          "output_type": "execute_result",
          "data": {
            "text/plain": [
              "Nick      Lamb\n",
              "Dean    Cheese\n",
              "Name: food, dtype: object"
            ]
          },
          "metadata": {
            "tags": []
          },
          "execution_count": 34
        }
      ]
    },
    {
      "cell_type": "code",
      "metadata": {
        "id": "ajJVmMhg5flh",
        "colab_type": "code",
        "colab": {},
        "outputId": "bb2d57b5-d90f-416f-f401-38c798306782"
      },
      "source": [
        "df.loc[:, 'color':'score':2]"
      ],
      "execution_count": null,
      "outputs": [
        {
          "output_type": "execute_result",
          "data": {
            "text/html": [
              "<div>\n",
              "<style scoped>\n",
              "    .dataframe tbody tr th:only-of-type {\n",
              "        vertical-align: middle;\n",
              "    }\n",
              "\n",
              "    .dataframe tbody tr th {\n",
              "        vertical-align: top;\n",
              "    }\n",
              "\n",
              "    .dataframe thead th {\n",
              "        text-align: right;\n",
              "    }\n",
              "</style>\n",
              "<table border=\"1\" class=\"dataframe\">\n",
              "  <thead>\n",
              "    <tr style=\"text-align: right;\">\n",
              "      <th></th>\n",
              "      <th>color</th>\n",
              "      <th>height</th>\n",
              "    </tr>\n",
              "  </thead>\n",
              "  <tbody>\n",
              "    <tr>\n",
              "      <th>Jane</th>\n",
              "      <td>blue</td>\n",
              "      <td>165</td>\n",
              "    </tr>\n",
              "    <tr>\n",
              "      <th>Nick</th>\n",
              "      <td>green</td>\n",
              "      <td>70</td>\n",
              "    </tr>\n",
              "    <tr>\n",
              "      <th>Aaron</th>\n",
              "      <td>red</td>\n",
              "      <td>120</td>\n",
              "    </tr>\n",
              "    <tr>\n",
              "      <th>Penelope</th>\n",
              "      <td>white</td>\n",
              "      <td>80</td>\n",
              "    </tr>\n",
              "    <tr>\n",
              "      <th>Dean</th>\n",
              "      <td>gray</td>\n",
              "      <td>180</td>\n",
              "    </tr>\n",
              "    <tr>\n",
              "      <th>Christina</th>\n",
              "      <td>black</td>\n",
              "      <td>172</td>\n",
              "    </tr>\n",
              "    <tr>\n",
              "      <th>Cornelia</th>\n",
              "      <td>red</td>\n",
              "      <td>150</td>\n",
              "    </tr>\n",
              "  </tbody>\n",
              "</table>\n",
              "</div>"
            ],
            "text/plain": [
              "           color  height\n",
              "Jane        blue     165\n",
              "Nick       green      70\n",
              "Aaron        red     120\n",
              "Penelope   white      80\n",
              "Dean        gray     180\n",
              "Christina  black     172\n",
              "Cornelia     red     150"
            ]
          },
          "metadata": {
            "tags": []
          },
          "execution_count": 35
        }
      ]
    },
    {
      "cell_type": "code",
      "metadata": {
        "id": "GlX9X0Ez5flj",
        "colab_type": "code",
        "colab": {},
        "outputId": "8cff7076-8a68-4a01-fc4f-e63f0be798c8"
      },
      "source": [
        "labels = ['Nick', 'Cornelia']\n",
        "index_ints = [df.index.get_loc(label) for label in labels]\n",
        "df.iloc[index_ints, [2, 4]]"
      ],
      "execution_count": null,
      "outputs": [
        {
          "output_type": "execute_result",
          "data": {
            "text/html": [
              "<div>\n",
              "<style scoped>\n",
              "    .dataframe tbody tr th:only-of-type {\n",
              "        vertical-align: middle;\n",
              "    }\n",
              "\n",
              "    .dataframe tbody tr th {\n",
              "        vertical-align: top;\n",
              "    }\n",
              "\n",
              "    .dataframe thead th {\n",
              "        text-align: right;\n",
              "    }\n",
              "</style>\n",
              "<table border=\"1\" class=\"dataframe\">\n",
              "  <thead>\n",
              "    <tr style=\"text-align: right;\">\n",
              "      <th></th>\n",
              "      <th>food</th>\n",
              "      <th>score</th>\n",
              "    </tr>\n",
              "  </thead>\n",
              "  <tbody>\n",
              "    <tr>\n",
              "      <th>Nick</th>\n",
              "      <td>Lamb</td>\n",
              "      <td>8.3</td>\n",
              "    </tr>\n",
              "    <tr>\n",
              "      <th>Cornelia</th>\n",
              "      <td>Beans</td>\n",
              "      <td>2.2</td>\n",
              "    </tr>\n",
              "  </tbody>\n",
              "</table>\n",
              "</div>"
            ],
            "text/plain": [
              "           food  score\n",
              "Nick       Lamb    8.3\n",
              "Cornelia  Beans    2.2"
            ]
          },
          "metadata": {
            "tags": []
          },
          "execution_count": 36
        }
      ]
    },
    {
      "cell_type": "code",
      "metadata": {
        "id": "-ofBEdHp5fln",
        "colab_type": "code",
        "colab": {},
        "outputId": "15be1527-58fe-4b8c-91b7-175ecd75e7ed"
      },
      "source": [
        "df.loc[df['age'] > 30, ['food', 'score']] "
      ],
      "execution_count": null,
      "outputs": [
        {
          "output_type": "execute_result",
          "data": {
            "text/html": [
              "<div>\n",
              "<style scoped>\n",
              "    .dataframe tbody tr th:only-of-type {\n",
              "        vertical-align: middle;\n",
              "    }\n",
              "\n",
              "    .dataframe tbody tr th {\n",
              "        vertical-align: top;\n",
              "    }\n",
              "\n",
              "    .dataframe thead th {\n",
              "        text-align: right;\n",
              "    }\n",
              "</style>\n",
              "<table border=\"1\" class=\"dataframe\">\n",
              "  <thead>\n",
              "    <tr style=\"text-align: right;\">\n",
              "      <th></th>\n",
              "      <th>food</th>\n",
              "      <th>score</th>\n",
              "    </tr>\n",
              "  </thead>\n",
              "  <tbody>\n",
              "    <tr>\n",
              "      <th>Dean</th>\n",
              "      <td>Cheese</td>\n",
              "      <td>1.8</td>\n",
              "    </tr>\n",
              "    <tr>\n",
              "      <th>Christina</th>\n",
              "      <td>Melon</td>\n",
              "      <td>9.5</td>\n",
              "    </tr>\n",
              "    <tr>\n",
              "      <th>Cornelia</th>\n",
              "      <td>Beans</td>\n",
              "      <td>2.2</td>\n",
              "    </tr>\n",
              "  </tbody>\n",
              "</table>\n",
              "</div>"
            ],
            "text/plain": [
              "             food  score\n",
              "Dean       Cheese    1.8\n",
              "Christina   Melon    9.5\n",
              "Cornelia    Beans    2.2"
            ]
          },
          "metadata": {
            "tags": []
          },
          "execution_count": 37
        }
      ]
    },
    {
      "cell_type": "code",
      "metadata": {
        "id": "LSuqisD15fls",
        "colab_type": "code",
        "colab": {},
        "outputId": "53922f05-c5d4-46ca-d866-b99ab3809f1c"
      },
      "source": [
        "df.iloc[(df['age'] > 30).values, [2, 4]] "
      ],
      "execution_count": null,
      "outputs": [
        {
          "output_type": "execute_result",
          "data": {
            "text/html": [
              "<div>\n",
              "<style scoped>\n",
              "    .dataframe tbody tr th:only-of-type {\n",
              "        vertical-align: middle;\n",
              "    }\n",
              "\n",
              "    .dataframe tbody tr th {\n",
              "        vertical-align: top;\n",
              "    }\n",
              "\n",
              "    .dataframe thead th {\n",
              "        text-align: right;\n",
              "    }\n",
              "</style>\n",
              "<table border=\"1\" class=\"dataframe\">\n",
              "  <thead>\n",
              "    <tr style=\"text-align: right;\">\n",
              "      <th></th>\n",
              "      <th>food</th>\n",
              "      <th>score</th>\n",
              "    </tr>\n",
              "  </thead>\n",
              "  <tbody>\n",
              "    <tr>\n",
              "      <th>Dean</th>\n",
              "      <td>Cheese</td>\n",
              "      <td>1.8</td>\n",
              "    </tr>\n",
              "    <tr>\n",
              "      <th>Christina</th>\n",
              "      <td>Melon</td>\n",
              "      <td>9.5</td>\n",
              "    </tr>\n",
              "    <tr>\n",
              "      <th>Cornelia</th>\n",
              "      <td>Beans</td>\n",
              "      <td>2.2</td>\n",
              "    </tr>\n",
              "  </tbody>\n",
              "</table>\n",
              "</div>"
            ],
            "text/plain": [
              "             food  score\n",
              "Dean       Cheese    1.8\n",
              "Christina   Melon    9.5\n",
              "Cornelia    Beans    2.2"
            ]
          },
          "metadata": {
            "tags": []
          },
          "execution_count": 38
        }
      ]
    },
    {
      "cell_type": "code",
      "metadata": {
        "id": "GiSUQqVv5flw",
        "colab_type": "code",
        "colab": {},
        "outputId": "56cc3612-e5da-4b90-b454-01769303c0ee"
      },
      "source": [
        "df.loc[:, 'color':'score':2]"
      ],
      "execution_count": null,
      "outputs": [
        {
          "output_type": "execute_result",
          "data": {
            "text/html": [
              "<div>\n",
              "<style scoped>\n",
              "    .dataframe tbody tr th:only-of-type {\n",
              "        vertical-align: middle;\n",
              "    }\n",
              "\n",
              "    .dataframe tbody tr th {\n",
              "        vertical-align: top;\n",
              "    }\n",
              "\n",
              "    .dataframe thead th {\n",
              "        text-align: right;\n",
              "    }\n",
              "</style>\n",
              "<table border=\"1\" class=\"dataframe\">\n",
              "  <thead>\n",
              "    <tr style=\"text-align: right;\">\n",
              "      <th></th>\n",
              "      <th>color</th>\n",
              "      <th>height</th>\n",
              "    </tr>\n",
              "  </thead>\n",
              "  <tbody>\n",
              "    <tr>\n",
              "      <th>Jane</th>\n",
              "      <td>blue</td>\n",
              "      <td>165</td>\n",
              "    </tr>\n",
              "    <tr>\n",
              "      <th>Nick</th>\n",
              "      <td>green</td>\n",
              "      <td>70</td>\n",
              "    </tr>\n",
              "    <tr>\n",
              "      <th>Aaron</th>\n",
              "      <td>red</td>\n",
              "      <td>120</td>\n",
              "    </tr>\n",
              "    <tr>\n",
              "      <th>Penelope</th>\n",
              "      <td>white</td>\n",
              "      <td>80</td>\n",
              "    </tr>\n",
              "    <tr>\n",
              "      <th>Dean</th>\n",
              "      <td>gray</td>\n",
              "      <td>180</td>\n",
              "    </tr>\n",
              "    <tr>\n",
              "      <th>Christina</th>\n",
              "      <td>black</td>\n",
              "      <td>172</td>\n",
              "    </tr>\n",
              "    <tr>\n",
              "      <th>Cornelia</th>\n",
              "      <td>red</td>\n",
              "      <td>150</td>\n",
              "    </tr>\n",
              "  </tbody>\n",
              "</table>\n",
              "</div>"
            ],
            "text/plain": [
              "           color  height\n",
              "Jane        blue     165\n",
              "Nick       green      70\n",
              "Aaron        red     120\n",
              "Penelope   white      80\n",
              "Dean        gray     180\n",
              "Christina  black     172\n",
              "Cornelia     red     150"
            ]
          },
          "metadata": {
            "tags": []
          },
          "execution_count": 39
        }
      ]
    },
    {
      "cell_type": "code",
      "metadata": {
        "id": "fsjty0Qu5fly",
        "colab_type": "code",
        "colab": {},
        "outputId": "36517782-eca0-4086-b5c2-4099a69f9f1b"
      },
      "source": [
        "df['food']"
      ],
      "execution_count": null,
      "outputs": [
        {
          "output_type": "execute_result",
          "data": {
            "text/plain": [
              "Jane          Steak\n",
              "Nick           Lamb\n",
              "Aaron         Mango\n",
              "Penelope      Apple\n",
              "Dean         Cheese\n",
              "Christina     Melon\n",
              "Cornelia      Beans\n",
              "Name: food, dtype: object"
            ]
          },
          "metadata": {
            "tags": []
          },
          "execution_count": 40
        }
      ]
    },
    {
      "cell_type": "code",
      "metadata": {
        "id": "Hz_Nfc295fl1",
        "colab_type": "code",
        "colab": {},
        "outputId": "d8a036be-d800-45a7-9b2e-506976a663c6"
      },
      "source": [
        "df[['food', 'score']]"
      ],
      "execution_count": null,
      "outputs": [
        {
          "output_type": "execute_result",
          "data": {
            "text/html": [
              "<div>\n",
              "<style scoped>\n",
              "    .dataframe tbody tr th:only-of-type {\n",
              "        vertical-align: middle;\n",
              "    }\n",
              "\n",
              "    .dataframe tbody tr th {\n",
              "        vertical-align: top;\n",
              "    }\n",
              "\n",
              "    .dataframe thead th {\n",
              "        text-align: right;\n",
              "    }\n",
              "</style>\n",
              "<table border=\"1\" class=\"dataframe\">\n",
              "  <thead>\n",
              "    <tr style=\"text-align: right;\">\n",
              "      <th></th>\n",
              "      <th>food</th>\n",
              "      <th>score</th>\n",
              "    </tr>\n",
              "  </thead>\n",
              "  <tbody>\n",
              "    <tr>\n",
              "      <th>Jane</th>\n",
              "      <td>Steak</td>\n",
              "      <td>4.6</td>\n",
              "    </tr>\n",
              "    <tr>\n",
              "      <th>Nick</th>\n",
              "      <td>Lamb</td>\n",
              "      <td>8.3</td>\n",
              "    </tr>\n",
              "    <tr>\n",
              "      <th>Aaron</th>\n",
              "      <td>Mango</td>\n",
              "      <td>9.0</td>\n",
              "    </tr>\n",
              "    <tr>\n",
              "      <th>Penelope</th>\n",
              "      <td>Apple</td>\n",
              "      <td>3.3</td>\n",
              "    </tr>\n",
              "    <tr>\n",
              "      <th>Dean</th>\n",
              "      <td>Cheese</td>\n",
              "      <td>1.8</td>\n",
              "    </tr>\n",
              "    <tr>\n",
              "      <th>Christina</th>\n",
              "      <td>Melon</td>\n",
              "      <td>9.5</td>\n",
              "    </tr>\n",
              "    <tr>\n",
              "      <th>Cornelia</th>\n",
              "      <td>Beans</td>\n",
              "      <td>2.2</td>\n",
              "    </tr>\n",
              "  </tbody>\n",
              "</table>\n",
              "</div>"
            ],
            "text/plain": [
              "             food  score\n",
              "Jane        Steak    4.6\n",
              "Nick         Lamb    8.3\n",
              "Aaron       Mango    9.0\n",
              "Penelope    Apple    3.3\n",
              "Dean       Cheese    1.8\n",
              "Christina   Melon    9.5\n",
              "Cornelia    Beans    2.2"
            ]
          },
          "metadata": {
            "tags": []
          },
          "execution_count": 41
        }
      ]
    },
    {
      "cell_type": "code",
      "metadata": {
        "id": "jAqrLUTh5fl4",
        "colab_type": "code",
        "colab": {},
        "outputId": "ff69df98-4ea7-4db3-c6a0-6ec74b4b29c0"
      },
      "source": [
        "df['Penelope':'Christina'] # slice rows by label"
      ],
      "execution_count": null,
      "outputs": [
        {
          "output_type": "execute_result",
          "data": {
            "text/html": [
              "<div>\n",
              "<style scoped>\n",
              "    .dataframe tbody tr th:only-of-type {\n",
              "        vertical-align: middle;\n",
              "    }\n",
              "\n",
              "    .dataframe tbody tr th {\n",
              "        vertical-align: top;\n",
              "    }\n",
              "\n",
              "    .dataframe thead th {\n",
              "        text-align: right;\n",
              "    }\n",
              "</style>\n",
              "<table border=\"1\" class=\"dataframe\">\n",
              "  <thead>\n",
              "    <tr style=\"text-align: right;\">\n",
              "      <th></th>\n",
              "      <th>age</th>\n",
              "      <th>color</th>\n",
              "      <th>food</th>\n",
              "      <th>height</th>\n",
              "      <th>score</th>\n",
              "      <th>state</th>\n",
              "    </tr>\n",
              "  </thead>\n",
              "  <tbody>\n",
              "    <tr>\n",
              "      <th>Penelope</th>\n",
              "      <td>4</td>\n",
              "      <td>white</td>\n",
              "      <td>Apple</td>\n",
              "      <td>80</td>\n",
              "      <td>3.3</td>\n",
              "      <td>AL</td>\n",
              "    </tr>\n",
              "    <tr>\n",
              "      <th>Dean</th>\n",
              "      <td>32</td>\n",
              "      <td>gray</td>\n",
              "      <td>Cheese</td>\n",
              "      <td>180</td>\n",
              "      <td>1.8</td>\n",
              "      <td>AK</td>\n",
              "    </tr>\n",
              "    <tr>\n",
              "      <th>Christina</th>\n",
              "      <td>33</td>\n",
              "      <td>black</td>\n",
              "      <td>Melon</td>\n",
              "      <td>172</td>\n",
              "      <td>9.5</td>\n",
              "      <td>TX</td>\n",
              "    </tr>\n",
              "  </tbody>\n",
              "</table>\n",
              "</div>"
            ],
            "text/plain": [
              "           age  color    food  height  score state\n",
              "Penelope     4  white   Apple      80    3.3    AL\n",
              "Dean        32   gray  Cheese     180    1.8    AK\n",
              "Christina   33  black   Melon     172    9.5    TX"
            ]
          },
          "metadata": {
            "tags": []
          },
          "execution_count": 42
        }
      ]
    },
    {
      "cell_type": "code",
      "metadata": {
        "id": "7IRW1Hl65fl7",
        "colab_type": "code",
        "colab": {},
        "outputId": "d1f1b811-89bc-4e79-ed51-9d2c80f799e1"
      },
      "source": [
        "df[2:6:2] # slice rows by integer location"
      ],
      "execution_count": null,
      "outputs": [
        {
          "output_type": "execute_result",
          "data": {
            "text/html": [
              "<div>\n",
              "<style scoped>\n",
              "    .dataframe tbody tr th:only-of-type {\n",
              "        vertical-align: middle;\n",
              "    }\n",
              "\n",
              "    .dataframe tbody tr th {\n",
              "        vertical-align: top;\n",
              "    }\n",
              "\n",
              "    .dataframe thead th {\n",
              "        text-align: right;\n",
              "    }\n",
              "</style>\n",
              "<table border=\"1\" class=\"dataframe\">\n",
              "  <thead>\n",
              "    <tr style=\"text-align: right;\">\n",
              "      <th></th>\n",
              "      <th>age</th>\n",
              "      <th>color</th>\n",
              "      <th>food</th>\n",
              "      <th>height</th>\n",
              "      <th>score</th>\n",
              "      <th>state</th>\n",
              "    </tr>\n",
              "  </thead>\n",
              "  <tbody>\n",
              "    <tr>\n",
              "      <th>Aaron</th>\n",
              "      <td>12</td>\n",
              "      <td>red</td>\n",
              "      <td>Mango</td>\n",
              "      <td>120</td>\n",
              "      <td>9.0</td>\n",
              "      <td>FL</td>\n",
              "    </tr>\n",
              "    <tr>\n",
              "      <th>Dean</th>\n",
              "      <td>32</td>\n",
              "      <td>gray</td>\n",
              "      <td>Cheese</td>\n",
              "      <td>180</td>\n",
              "      <td>1.8</td>\n",
              "      <td>AK</td>\n",
              "    </tr>\n",
              "  </tbody>\n",
              "</table>\n",
              "</div>"
            ],
            "text/plain": [
              "       age color    food  height  score state\n",
              "Aaron   12   red   Mango     120    9.0    FL\n",
              "Dean    32  gray  Cheese     180    1.8    AK"
            ]
          },
          "metadata": {
            "tags": []
          },
          "execution_count": 43
        }
      ]
    },
    {
      "cell_type": "code",
      "metadata": {
        "id": "stR7Z3S45fl-",
        "colab_type": "code",
        "colab": {}
      },
      "source": [
        ""
      ],
      "execution_count": null,
      "outputs": []
    }
  ]
}